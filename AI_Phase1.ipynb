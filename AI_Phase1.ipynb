{
  "nbformat": 4,
  "nbformat_minor": 0,
  "metadata": {
    "colab": {
      "provenance": []
    },
    "kernelspec": {
      "name": "python3",
      "display_name": "Python 3"
    },
    "language_info": {
      "name": "python"
    }
  },
  "cells": [
    {
      "cell_type": "code",
      "execution_count": 1,
      "metadata": {
        "colab": {
          "base_uri": "https://localhost:8080/"
        },
        "id": "y0ZVPXiuO-5V",
        "outputId": "42736e9f-5214-42be-ffe0-1dc4ff75fd37"
      },
      "outputs": [
        {
          "output_type": "stream",
          "name": "stdout",
          "text": [
            "Mounted at /content/drive\n"
          ]
        }
      ],
      "source": [
        "# Connect colab with google drive\n",
        "from google.colab import drive\n",
        "drive.mount(\"/content/drive\")"
      ]
    },
    {
      "cell_type": "code",
      "source": [
        "# Importing the required libraries\n",
        "\n",
        "import pandas as pd\n",
        "import numpy as np\n",
        "import matplotlib.pyplot as plt\n",
        "from sklearn.linear_model import LinearRegression\n",
        "from sklearn.model_selection import train_test_split\n",
        "from sklearn.metrics import r2_score\n",
        "from sklearn.metrics import mean_squared_error"
      ],
      "metadata": {
        "id": "3r38p47oPJfc"
      },
      "execution_count": 7,
      "outputs": []
    },
    {
      "cell_type": "code",
      "source": [
        "# Importing the Dataset\n",
        "\n",
        "housing_data = pd.read_csv(\"/content/drive/MyDrive/Datasets/USA_Housing.csv\")\n",
        "print(housing_data.head())\n",
        "print(\"Column names : \",housing_data.columns)\n",
        "print(\"Dataset info : \",housing_data.info())"
      ],
      "metadata": {
        "colab": {
          "base_uri": "https://localhost:8080/"
        },
        "id": "80Rw1SCnPP7u",
        "outputId": "b3285910-c169-4f6e-eb52-cc381c38916d"
      },
      "execution_count": 3,
      "outputs": [
        {
          "output_type": "stream",
          "name": "stdout",
          "text": [
            "   Avg. Area Income  Avg. Area House Age  Avg. Area Number of Rooms  \\\n",
            "0      79545.458574             5.682861                   7.009188   \n",
            "1      79248.642455             6.002900                   6.730821   \n",
            "2      61287.067179             5.865890                   8.512727   \n",
            "3      63345.240046             7.188236                   5.586729   \n",
            "4      59982.197226             5.040555                   7.839388   \n",
            "\n",
            "   Avg. Area Number of Bedrooms  Area Population         Price  \\\n",
            "0                          4.09     23086.800503  1.059034e+06   \n",
            "1                          3.09     40173.072174  1.505891e+06   \n",
            "2                          5.13     36882.159400  1.058988e+06   \n",
            "3                          3.26     34310.242831  1.260617e+06   \n",
            "4                          4.23     26354.109472  6.309435e+05   \n",
            "\n",
            "                                             Address  \n",
            "0  208 Michael Ferry Apt. 674\\nLaurabury, NE 3701...  \n",
            "1  188 Johnson Views Suite 079\\nLake Kathleen, CA...  \n",
            "2  9127 Elizabeth Stravenue\\nDanieltown, WI 06482...  \n",
            "3                          USS Barnett\\nFPO AP 44820  \n",
            "4                         USNS Raymond\\nFPO AE 09386  \n",
            "Column names :  Index(['Avg. Area Income', 'Avg. Area House Age', 'Avg. Area Number of Rooms',\n",
            "       'Avg. Area Number of Bedrooms', 'Area Population', 'Price', 'Address'],\n",
            "      dtype='object')\n",
            "<class 'pandas.core.frame.DataFrame'>\n",
            "RangeIndex: 5000 entries, 0 to 4999\n",
            "Data columns (total 7 columns):\n",
            " #   Column                        Non-Null Count  Dtype  \n",
            "---  ------                        --------------  -----  \n",
            " 0   Avg. Area Income              5000 non-null   float64\n",
            " 1   Avg. Area House Age           5000 non-null   float64\n",
            " 2   Avg. Area Number of Rooms     5000 non-null   float64\n",
            " 3   Avg. Area Number of Bedrooms  5000 non-null   float64\n",
            " 4   Area Population               5000 non-null   float64\n",
            " 5   Price                         5000 non-null   float64\n",
            " 6   Address                       5000 non-null   object \n",
            "dtypes: float64(6), object(1)\n",
            "memory usage: 273.6+ KB\n",
            "Dataset info :  None\n"
          ]
        }
      ]
    },
    {
      "cell_type": "code",
      "source": [
        "# Data preprocessing\n",
        "\n",
        "# Since we cannot process address data we drop that from data set\n",
        "\n",
        "data = housing_data.drop(columns=[\"Address\"],axis=1)\n",
        "print(data.head())\n",
        "\n",
        "print(data.columns)"
      ],
      "metadata": {
        "colab": {
          "base_uri": "https://localhost:8080/"
        },
        "id": "JkHI9aklPp8t",
        "outputId": "d8e800ee-bbe2-4edb-8c65-fe8f3d1d26ed"
      },
      "execution_count": 4,
      "outputs": [
        {
          "output_type": "stream",
          "name": "stdout",
          "text": [
            "   Avg. Area Income  Avg. Area House Age  Avg. Area Number of Rooms  \\\n",
            "0      79545.458574             5.682861                   7.009188   \n",
            "1      79248.642455             6.002900                   6.730821   \n",
            "2      61287.067179             5.865890                   8.512727   \n",
            "3      63345.240046             7.188236                   5.586729   \n",
            "4      59982.197226             5.040555                   7.839388   \n",
            "\n",
            "   Avg. Area Number of Bedrooms  Area Population         Price  \n",
            "0                          4.09     23086.800503  1.059034e+06  \n",
            "1                          3.09     40173.072174  1.505891e+06  \n",
            "2                          5.13     36882.159400  1.058988e+06  \n",
            "3                          3.26     34310.242831  1.260617e+06  \n",
            "4                          4.23     26354.109472  6.309435e+05  \n",
            "Index(['Avg. Area Income', 'Avg. Area House Age', 'Avg. Area Number of Rooms',\n",
            "       'Avg. Area Number of Bedrooms', 'Area Population', 'Price'],\n",
            "      dtype='object')\n"
          ]
        }
      ]
    },
    {
      "cell_type": "code",
      "source": [
        "# Setting independent variable\n",
        "x = data.drop(columns = [\"Price\"],axis = 1)\n",
        "print(x.head())\n",
        "\n",
        "# Setting dependent variable\n",
        "y = data[\"Price\"]\n",
        "print(y)"
      ],
      "metadata": {
        "colab": {
          "base_uri": "https://localhost:8080/"
        },
        "id": "naNRw0vdP0tf",
        "outputId": "551304c5-a6aa-41e8-edc7-f9bdc9ce1845"
      },
      "execution_count": 8,
      "outputs": [
        {
          "output_type": "stream",
          "name": "stdout",
          "text": [
            "   Avg. Area Income  Avg. Area House Age  Avg. Area Number of Rooms  \\\n",
            "0      79545.458574             5.682861                   7.009188   \n",
            "1      79248.642455             6.002900                   6.730821   \n",
            "2      61287.067179             5.865890                   8.512727   \n",
            "3      63345.240046             7.188236                   5.586729   \n",
            "4      59982.197226             5.040555                   7.839388   \n",
            "\n",
            "   Avg. Area Number of Bedrooms  Area Population  \n",
            "0                          4.09     23086.800503  \n",
            "1                          3.09     40173.072174  \n",
            "2                          5.13     36882.159400  \n",
            "3                          3.26     34310.242831  \n",
            "4                          4.23     26354.109472  \n",
            "0       1.059034e+06\n",
            "1       1.505891e+06\n",
            "2       1.058988e+06\n",
            "3       1.260617e+06\n",
            "4       6.309435e+05\n",
            "            ...     \n",
            "4995    1.060194e+06\n",
            "4996    1.482618e+06\n",
            "4997    1.030730e+06\n",
            "4998    1.198657e+06\n",
            "4999    1.298950e+06\n",
            "Name: Price, Length: 5000, dtype: float64\n"
          ]
        }
      ]
    },
    {
      "cell_type": "code",
      "source": [
        "# Splitting data\n",
        "\n",
        "x_train, x_test, y_train, y_test = train_test_split(x , y, test_size = 0.3)\n",
        "print(\"X  Train : \",x_train)\n",
        "print(\"X Test : \",x_test)\n",
        "print(\"y Train : \",y_train)\n",
        "print(\"y Test : \",y_test)"
      ],
      "metadata": {
        "colab": {
          "base_uri": "https://localhost:8080/"
        },
        "id": "6fsNfmubQQY2",
        "outputId": "bb43b1ca-bf8e-4ea0-b883-405e351c23be"
      },
      "execution_count": 9,
      "outputs": [
        {
          "output_type": "stream",
          "name": "stdout",
          "text": [
            "X  Train :        Avg. Area Income  Avg. Area House Age  Avg. Area Number of Rooms  \\\n",
            "1071      51519.618537             6.944747                   5.543897   \n",
            "4661      64168.858836             6.360502                   7.536445   \n",
            "4236      56315.351575             5.064975                   8.708239   \n",
            "537       79550.641384             6.637634                   7.531228   \n",
            "409       67710.112979             5.854378                   8.482523   \n",
            "...                ...                  ...                        ...   \n",
            "198       67371.420857             5.333821                   6.624951   \n",
            "236       60640.931881             5.165922                   5.355114   \n",
            "2875      66537.252717             6.346080                   9.268967   \n",
            "2495      70213.646002             5.913557                   5.829801   \n",
            "1686      57869.268480             5.625299                   7.601622   \n",
            "\n",
            "      Avg. Area Number of Bedrooms  Area Population  \n",
            "1071                          4.13     43258.644603  \n",
            "4661                          3.46     20038.171830  \n",
            "4236                          3.46     40985.477196  \n",
            "537                           4.05     43636.504491  \n",
            "409                           4.18     25222.462415  \n",
            "...                            ...              ...  \n",
            "198                           4.37     24797.764759  \n",
            "236                           2.32     43119.540656  \n",
            "2875                          6.12     53721.141291  \n",
            "2495                          3.26     34386.429780  \n",
            "1686                          3.39     31818.932565  \n",
            "\n",
            "[3500 rows x 5 columns]\n",
            "X Test :        Avg. Area Income  Avg. Area House Age  Avg. Area Number of Rooms  \\\n",
            "778       64967.784825             7.054468                   7.316483   \n",
            "1982      59867.842781             4.266360                   7.866834   \n",
            "3007      69379.238172             8.207386                   8.273387   \n",
            "3631      73732.212227             4.915484                   7.747908   \n",
            "172       65967.769309             6.847725                   7.777279   \n",
            "...                ...                  ...                        ...   \n",
            "2034      64446.157281             5.923312                   6.761698   \n",
            "4717      60402.998624             5.443869                   7.545897   \n",
            "2680      63334.566209             6.907221                   7.286040   \n",
            "3390      46890.594503             5.644641                   7.874312   \n",
            "4446      66357.880170             6.497222                   7.028679   \n",
            "\n",
            "      Avg. Area Number of Bedrooms  Area Population  \n",
            "778                           3.26     28164.221607  \n",
            "1982                          4.01     47726.254170  \n",
            "3007                          6.40     34612.763716  \n",
            "3631                          6.50     36734.744198  \n",
            "172                           3.14     35799.962548  \n",
            "...                            ...              ...  \n",
            "2034                          4.12     46743.721651  \n",
            "4717                          3.23     47018.150536  \n",
            "2680                          6.25     35638.538167  \n",
            "3390                          4.03     26406.006041  \n",
            "4446                          5.02     39575.979466  \n",
            "\n",
            "[1500 rows x 5 columns]\n",
            "y Train :  1071    9.459815e+05\n",
            "4661    1.031122e+06\n",
            "4236    8.994666e+05\n",
            "537     1.626321e+06\n",
            "409     1.267443e+06\n",
            "            ...     \n",
            "198     7.398708e+05\n",
            "236     8.090897e+05\n",
            "2875    1.817188e+06\n",
            "2495    1.064570e+06\n",
            "1686    8.868159e+05\n",
            "Name: Price, Length: 3500, dtype: float64\n",
            "y Test :  778     1.190867e+06\n",
            "1982    1.114902e+06\n",
            "3007    1.827476e+06\n",
            "3631    1.369017e+06\n",
            "172     1.474547e+06\n",
            "            ...     \n",
            "2034    1.296134e+06\n",
            "4717    1.265760e+06\n",
            "2680    1.292644e+06\n",
            "3390    7.176821e+05\n",
            "4446    1.324846e+06\n",
            "Name: Price, Length: 1500, dtype: float64\n"
          ]
        }
      ]
    },
    {
      "cell_type": "code",
      "source": [
        "# Training the mode\n",
        "\n",
        "def train_model(model, x_train, y_train):\n",
        "  model.fit(x_train,y_train)\n",
        "  return model\n",
        "\n",
        "# Evaluating model\n",
        "def evaluate_model(model, x_test,y_test):\n",
        "\n",
        "  y_predict = model.predict(x_test)\n",
        "\n",
        "  print(\"y test : \",y_test.shape)\n",
        "  print(\"y pred : \",y_predict.shape)\n",
        "  r2 = r2_score(y_test, y_predict)\n",
        "  print(\"R-squared (R2) Score:\", r2)\n",
        "  mse = mean_squared_error(y_test, y_predict)\n",
        "  print(\"Mean Squared Error:\", mse)\n",
        "\n",
        "\n",
        "\n",
        "trained_model = train_model(LinearRegression(), x_train, y_train)\n",
        "evaluate_model(trained_model,x_test,y_test)\n"
      ],
      "metadata": {
        "colab": {
          "base_uri": "https://localhost:8080/"
        },
        "id": "0kDCiociQaFU",
        "outputId": "3ecfbbaf-3afe-4034-e94a-9ace14f40485"
      },
      "execution_count": 17,
      "outputs": [
        {
          "output_type": "stream",
          "name": "stdout",
          "text": [
            "y test :  (1500,)\n",
            "y pred :  (1500,)\n",
            "R-squared (R2) Score: 0.9167604756599034\n",
            "Mean Squared Error: 10192648984.217157\n"
          ]
        }
      ]
    }
  ]
}